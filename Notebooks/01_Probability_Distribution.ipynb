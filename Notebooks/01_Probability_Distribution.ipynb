{
 "cells": [
  {
   "cell_type": "markdown",
   "id": "congressional-semiconductor",
   "metadata": {},
   "source": [
    "# 01: Probability Distribution"
   ]
  },
  {
   "cell_type": "code",
   "execution_count": 47,
   "id": "gothic-intermediate",
   "metadata": {},
   "outputs": [],
   "source": [
    "import tensorflow_probability as tfp"
   ]
  },
  {
   "cell_type": "code",
   "execution_count": 48,
   "id": "operating-substance",
   "metadata": {},
   "outputs": [],
   "source": [
    "tfd = tfp.distributions"
   ]
  },
  {
   "cell_type": "markdown",
   "id": "present-provider",
   "metadata": {},
   "source": [
    "We can use a variety of distributions listed at: https://www.tensorflow.org/probability/api_docs/python/tfp/distributions"
   ]
  },
  {
   "cell_type": "markdown",
   "id": "personal-government",
   "metadata": {},
   "source": [
    "## Example distribution: Normal Distribution"
   ]
  },
  {
   "cell_type": "code",
   "execution_count": 69,
   "id": "binary-geometry",
   "metadata": {},
   "outputs": [],
   "source": [
    "d_normal = tfd.Normal(loc=[5], scale=2)"
   ]
  },
  {
   "cell_type": "markdown",
   "id": "wireless-roads",
   "metadata": {},
   "source": [
    "For Normal distribution, `loc` indicates $\\mu$ and `scale` indicates $\\sigma$."
   ]
  },
  {
   "cell_type": "markdown",
   "id": "ambient-memphis",
   "metadata": {},
   "source": [
    "Let's see some interesting methods belong to this distribution."
   ]
  },
  {
   "cell_type": "markdown",
   "id": "hearing-humanity",
   "metadata": {},
   "source": [
    "### `cdf`"
   ]
  },
  {
   "cell_type": "markdown",
   "id": "corrected-literature",
   "metadata": {},
   "source": [
    "`cdf(x) := P[X <= x]`"
   ]
  },
  {
   "cell_type": "code",
   "execution_count": 50,
   "id": "bearing-confidence",
   "metadata": {},
   "outputs": [
    {
     "data": {
      "text/plain": [
       "<tf.Tensor: shape=(1,), dtype=float32, numpy=array([0.5], dtype=float32)>"
      ]
     },
     "execution_count": 50,
     "metadata": {},
     "output_type": "execute_result"
    }
   ],
   "source": [
    "d_normal.cdf(5)"
   ]
  },
  {
   "cell_type": "code",
   "execution_count": 51,
   "id": "referenced-virgin",
   "metadata": {},
   "outputs": [
    {
     "data": {
      "text/plain": [
       "<tf.Tensor: shape=(1,), dtype=float32, numpy=array([0.97724986], dtype=float32)>"
      ]
     },
     "execution_count": 51,
     "metadata": {},
     "output_type": "execute_result"
    }
   ],
   "source": [
    "d_normal.cdf(5 + 2 * 2)"
   ]
  },
  {
   "cell_type": "markdown",
   "id": "dutch-merit",
   "metadata": {},
   "source": [
    "### `cross_entropy`"
   ]
  },
  {
   "cell_type": "markdown",
   "id": "indonesian-control",
   "metadata": {},
   "source": [
    "`H[P, Q] = E_p[-log q(X)] = -int_F p(x) log q(x) dr(x)`"
   ]
  },
  {
   "cell_type": "code",
   "execution_count": 52,
   "id": "hundred-physics",
   "metadata": {},
   "outputs": [],
   "source": [
    "q = tfd.Normal(loc=[100], scale=2)"
   ]
  },
  {
   "cell_type": "code",
   "execution_count": 53,
   "id": "informative-equality",
   "metadata": {},
   "outputs": [
    {
     "data": {
      "text/plain": [
       "<tf.Tensor: shape=(1,), dtype=float32, numpy=array([1130.237], dtype=float32)>"
      ]
     },
     "execution_count": 53,
     "metadata": {},
     "output_type": "execute_result"
    }
   ],
   "source": [
    "d_normal.cross_entropy(q)"
   ]
  },
  {
   "cell_type": "code",
   "execution_count": 54,
   "id": "similar-brown",
   "metadata": {},
   "outputs": [
    {
     "data": {
      "text/plain": [
       "<tf.Tensor: shape=(1,), dtype=float32, numpy=array([2.1120858], dtype=float32)>"
      ]
     },
     "execution_count": 54,
     "metadata": {},
     "output_type": "execute_result"
    }
   ],
   "source": [
    "d_normal.cross_entropy(d_normal)"
   ]
  },
  {
   "cell_type": "markdown",
   "id": "departmental-scanner",
   "metadata": {},
   "source": [
    "We can see that cross-entropy is large when a wrong probability distribution is assumed. In this case, `d_noraml` is the desired probability distribution (ground truth), and `q` can be thought of a wrong estimation of the distribution."
   ]
  },
  {
   "cell_type": "markdown",
   "id": "varying-dollar",
   "metadata": {},
   "source": [
    "### `sample`"
   ]
  },
  {
   "cell_type": "markdown",
   "id": "adverse-aruba",
   "metadata": {},
   "source": [
    "Generate samples of the specified shape."
   ]
  },
  {
   "cell_type": "code",
   "execution_count": 55,
   "id": "accompanied-library",
   "metadata": {},
   "outputs": [
    {
     "data": {
      "text/plain": [
       "<tf.Tensor: shape=(5, 1), dtype=float32, numpy=\n",
       "array([[7.7086496],\n",
       "       [5.793973 ],\n",
       "       [5.9988112],\n",
       "       [5.350604 ],\n",
       "       [5.849042 ]], dtype=float32)>"
      ]
     },
     "execution_count": 55,
     "metadata": {},
     "output_type": "execute_result"
    }
   ],
   "source": [
    "d_normal.sample(5)"
   ]
  },
  {
   "cell_type": "code",
   "execution_count": 56,
   "id": "swedish-payroll",
   "metadata": {},
   "outputs": [
    {
     "data": {
      "text/plain": [
       "<tf.Tensor: shape=(5, 1), dtype=float32, numpy=\n",
       "array([[ 97.0292 ],\n",
       "       [100.31859],\n",
       "       [ 98.20633],\n",
       "       [103.60803],\n",
       "       [ 98.87997]], dtype=float32)>"
      ]
     },
     "execution_count": 56,
     "metadata": {},
     "output_type": "execute_result"
    }
   ],
   "source": [
    "q.sample(5)"
   ]
  },
  {
   "cell_type": "markdown",
   "id": "transparent-corrections",
   "metadata": {},
   "source": [
    "### `prob`"
   ]
  },
  {
   "cell_type": "markdown",
   "id": "cutting-paradise",
   "metadata": {},
   "source": [
    "Probability density/mass function"
   ]
  },
  {
   "cell_type": "code",
   "execution_count": 62,
   "id": "alive-people",
   "metadata": {},
   "outputs": [
    {
     "data": {
      "text/plain": [
       "<tf.Tensor: shape=(5, 1), dtype=float32, numpy=\n",
       "array([[0.17189574],\n",
       "       [0.12691882],\n",
       "       [0.1952384 ],\n",
       "       [0.19133274],\n",
       "       [0.18537201]], dtype=float32)>"
      ]
     },
     "execution_count": 62,
     "metadata": {},
     "output_type": "execute_result"
    }
   ],
   "source": [
    "d_normal.prob(d_normal.sample(5))"
   ]
  },
  {
   "cell_type": "code",
   "execution_count": 64,
   "id": "latin-purse",
   "metadata": {},
   "outputs": [
    {
     "data": {
      "text/plain": [
       "<tf.Tensor: shape=(1,), dtype=float32, numpy=array([1.2171607e-13], dtype=float32)>"
      ]
     },
     "execution_count": 64,
     "metadata": {},
     "output_type": "execute_result"
    }
   ],
   "source": [
    "d_normal.prob(20)"
   ]
  },
  {
   "cell_type": "markdown",
   "id": "domestic-massachusetts",
   "metadata": {},
   "source": [
    "### `mean` & `stddev`"
   ]
  },
  {
   "cell_type": "code",
   "execution_count": 65,
   "id": "threaded-roller",
   "metadata": {},
   "outputs": [
    {
     "data": {
      "text/plain": [
       "<tf.Tensor: shape=(1,), dtype=float32, numpy=array([5.], dtype=float32)>"
      ]
     },
     "execution_count": 65,
     "metadata": {},
     "output_type": "execute_result"
    }
   ],
   "source": [
    "d_normal.mean()"
   ]
  },
  {
   "cell_type": "code",
   "execution_count": 66,
   "id": "disturbed-alabama",
   "metadata": {},
   "outputs": [
    {
     "data": {
      "text/plain": [
       "<tf.Tensor: shape=(1,), dtype=float32, numpy=array([2.], dtype=float32)>"
      ]
     },
     "execution_count": 66,
     "metadata": {},
     "output_type": "execute_result"
    }
   ],
   "source": [
    "d_normal.stddev()"
   ]
  },
  {
   "cell_type": "code",
   "execution_count": 67,
   "id": "third-clinic",
   "metadata": {},
   "outputs": [
    {
     "data": {
      "text/plain": [
       "<tf.Tensor: shape=(1,), dtype=float32, numpy=array([100.], dtype=float32)>"
      ]
     },
     "execution_count": 67,
     "metadata": {},
     "output_type": "execute_result"
    }
   ],
   "source": [
    "q.mean()"
   ]
  },
  {
   "cell_type": "code",
   "execution_count": 68,
   "id": "upper-durham",
   "metadata": {},
   "outputs": [
    {
     "data": {
      "text/plain": [
       "<tf.Tensor: shape=(1,), dtype=float32, numpy=array([2.], dtype=float32)>"
      ]
     },
     "execution_count": 68,
     "metadata": {},
     "output_type": "execute_result"
    }
   ],
   "source": [
    "q.stddev()"
   ]
  },
  {
   "cell_type": "code",
   "execution_count": null,
   "id": "mysterious-founder",
   "metadata": {},
   "outputs": [],
   "source": []
  }
 ],
 "metadata": {
  "kernelspec": {
   "display_name": "Python 3",
   "language": "python",
   "name": "python3"
  },
  "language_info": {
   "codemirror_mode": {
    "name": "ipython",
    "version": 3
   },
   "file_extension": ".py",
   "mimetype": "text/x-python",
   "name": "python",
   "nbconvert_exporter": "python",
   "pygments_lexer": "ipython3",
   "version": "3.8.6"
  }
 },
 "nbformat": 4,
 "nbformat_minor": 5
}
