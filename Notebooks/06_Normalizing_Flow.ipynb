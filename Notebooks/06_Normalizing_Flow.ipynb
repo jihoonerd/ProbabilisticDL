{
 "cells": [
  {
   "cell_type": "code",
   "execution_count": 1,
   "id": "invalid-centre",
   "metadata": {},
   "outputs": [],
   "source": [
    "import tensorflow as tf\n",
    "import matplotlib.pyplot as plt\n",
    "import numpy as np\n",
    "import pandas as pd\n",
    "from sklearn.model_selection import train_test_split\n",
    "import tensorflow_probability as tfp\n",
    "%matplotlib inline"
   ]
  },
  {
   "cell_type": "code",
   "execution_count": 2,
   "id": "fancy-pencil",
   "metadata": {},
   "outputs": [],
   "source": [
    "tfd = tfp.distributions\n",
    "tfb = tfp.bijectors"
   ]
  },
  {
   "cell_type": "code",
   "execution_count": 3,
   "id": "functioning-robertson",
   "metadata": {},
   "outputs": [],
   "source": [
    "N = 500\n",
    "d = tfd.Uniform(low=0, high=2)\n",
    "zs = d.sample(N)"
   ]
  },
  {
   "cell_type": "code",
   "execution_count": 4,
   "id": "entitled-track",
   "metadata": {},
   "outputs": [
    {
     "data": {
      "text/plain": [
       "Text(0.5, 0, 'z')"
      ]
     },
     "execution_count": 4,
     "metadata": {},
     "output_type": "execute_result"
    },
    {
     "data": {
      "image/png": "[encoded data removed]",
      "text/plain": [
       "<Figure size 432x288 with 1 Axes>"
      ]
     },
     "metadata": {
      "needs_background": "light"
     },
     "output_type": "display_data"
    }
   ],
   "source": [
    "plt.hist(zs, density=True, bins=30)\n",
    "zd = np.linspace(-1,3,1000)\n",
    "plt.plot(zd, d.prob(zd), linewidth=3)\n",
    "plt.ylabel('density $p_z(z)$ and samples')\n",
    "plt.xlabel('z')"
   ]
  },
  {
   "cell_type": "code",
   "execution_count": 5,
   "id": "novel-investing",
   "metadata": {},
   "outputs": [
    {
     "data": {
      "text/plain": [
       "Text(0.5, 0, 'x')"
      ]
     },
     "execution_count": 5,
     "metadata": {},
     "output_type": "execute_result"
    },
    {
     "data": {
      "image/png": "[encoded data removed]",
      "text/plain": [
       "<Figure size 432x288 with 1 Axes>"
      ]
     },
     "metadata": {
      "needs_background": "light"
     },
     "output_type": "display_data"
    }
   ],
   "source": [
    "x = zs**2\n",
    "plt.hist(x, density=True, bins=30)\n",
    "plt.ylabel('density')\n",
    "plt.xlabel('x')"
   ]
  },
  {
   "cell_type": "code",
   "execution_count": 6,
   "id": "average-identity",
   "metadata": {},
   "outputs": [
    {
     "data": {
      "image/png": "[encoded data removed]",
      "text/plain": [
       "<Figure size 432x288 with 1 Axes>"
      ]
     },
     "metadata": {
      "needs_background": "light"
     },
     "output_type": "display_data"
    }
   ],
   "source": [
    "x = zs**2\n",
    "plt.hist(x, density=True, bins=30)\n",
    "plt.ylabel('density')\n",
    "plt.xlabel('x')\n",
    "\n",
    "xs = np.linspace(0.03,4,100)\n",
    "plt.plot(xs, 1./2 * 1./2 * 1/np.sqrt(xs), linewidth=3)\n",
    "plt.savefig('ch06_x2.pdf')\n",
    "plt.show()"
   ]
  },
  {
   "cell_type": "code",
   "execution_count": 7,
   "id": "exposed-indonesia",
   "metadata": {},
   "outputs": [],
   "source": [
    "g = tfb.Square() # This is a bijector"
   ]
  },
  {
   "cell_type": "code",
   "execution_count": 8,
   "id": "disabled-benchmark",
   "metadata": {},
   "outputs": [
    {
     "data": {
      "text/plain": [
       "<tf.Tensor: shape=(), dtype=float32, numpy=4.0>"
      ]
     },
     "execution_count": 8,
     "metadata": {},
     "output_type": "execute_result"
    }
   ],
   "source": [
    "g.forward(2.0) #4"
   ]
  },
  {
   "cell_type": "code",
   "execution_count": 9,
   "id": "transsexual-portfolio",
   "metadata": {},
   "outputs": [
    {
     "data": {
      "text/plain": [
       "<tf.Tensor: shape=(), dtype=float32, numpy=2.0>"
      ]
     },
     "execution_count": 9,
     "metadata": {},
     "output_type": "execute_result"
    }
   ],
   "source": [
    "g.inverse(4.0) #2"
   ]
  },
  {
   "cell_type": "code",
   "execution_count": 10,
   "id": "pleasant-developer",
   "metadata": {},
   "outputs": [],
   "source": [
    "base_dist = tfd.Uniform(0.0,2.0)\n",
    "mydist = tfd.TransformedDistribution(\n",
    "    distribution=base_dist, bijector=g) # My dist is a new distribution"
   ]
  },
  {
   "cell_type": "code",
   "execution_count": 11,
   "id": "improving-maximum",
   "metadata": {},
   "outputs": [
    {
     "data": {
      "text/plain": [
       "(<tf.Tensor: shape=(), dtype=float32, numpy=0.14433756>,\n",
       " <tf.Tensor: shape=(3,), dtype=float32, numpy=array([0.01505037, 3.2150474 , 2.9480858 ], dtype=float32)>)"
      ]
     },
     "execution_count": 11,
     "metadata": {},
     "output_type": "execute_result"
    }
   ],
   "source": [
    "mydist.prob(3), mydist.sample(3)"
   ]
  },
  {
   "cell_type": "code",
   "execution_count": 12,
   "id": "living-argument",
   "metadata": {},
   "outputs": [
    {
     "data": {
      "text/plain": [
       "(0.0, 1.0)"
      ]
     },
     "execution_count": 12,
     "metadata": {},
     "output_type": "execute_result"
    },
    {
     "data": {
      "image/png": "[encoded data removed]",
      "text/plain": [
       "<Figure size 432x288 with 1 Axes>"
      ]
     },
     "metadata": {
      "needs_background": "light"
     },
     "output_type": "display_data"
    }
   ],
   "source": [
    "g = tfb.Square() #A \n",
    "db = tfd.Uniform(0.0,2.0) #A2\n",
    "mydist = tfd.TransformedDistribution( #B\n",
    "    distribution=db, bijector=g)\n",
    "\n",
    "xs = np.linspace(0.001, 5,1000)\n",
    "px = mydist.prob(xs) #C\n",
    "\n",
    "#A The bijector, here a square function\n",
    "#A2 The base distribution, here a uniform distribution\n",
    "#B Combining a base distribution and a bijector to a new distribution \n",
    "#C The TransformedDistribution behaves like a usual Distribution\n",
    "\n",
    "plt.plot(xs,px)\n",
    "plt.xlabel('x')\n",
    "plt.ylabel('p(x)')\n",
    "plt.ylim(0,1)"
   ]
  },
  {
   "cell_type": "markdown",
   "id": "whole-timber",
   "metadata": {},
   "source": [
    "## Using chain"
   ]
  },
  {
   "cell_type": "code",
   "execution_count": 13,
   "id": "editorial-invite",
   "metadata": {},
   "outputs": [
    {
     "data": {
      "text/plain": [
       "<tf.Tensor: shape=(), dtype=float32, numpy=16.0>"
      ]
     },
     "execution_count": 13,
     "metadata": {},
     "output_type": "execute_result"
    }
   ],
   "source": [
    "chain = tfb.Chain([tfb.Square(), tfb.Square()], name=\"x4\")\n",
    "chain.forward(2.0)"
   ]
  },
  {
   "cell_type": "markdown",
   "id": "comfortable-tension",
   "metadata": {},
   "source": [
    "## Training Bijector"
   ]
  },
  {
   "cell_type": "code",
   "execution_count": 36,
   "id": "ongoing-stupid",
   "metadata": {},
   "outputs": [
    {
     "data": {
      "text/plain": [
       "(1000, 1)"
      ]
     },
     "execution_count": 36,
     "metadata": {},
     "output_type": "execute_result"
    },
    {
     "data": {
      "image/png": "[encoded data removed]",
      "text/plain": [
       "<Figure size 432x288 with 1 Axes>"
      ]
     },
     "metadata": {
      "needs_background": "light"
     },
     "output_type": "display_data"
    }
   ],
   "source": [
    "N = 1000\n",
    "X = tfd.Normal(loc=5,scale=0.2).sample(1000)\n",
    "X = X.numpy().reshape([N,1])\n",
    "plt.hist(X,30)\n",
    "X.shape"
   ]
  },
  {
   "cell_type": "markdown",
   "id": "driven-moore",
   "metadata": {},
   "source": [
    "### Training in eager mode\n",
    "\n",
    "What shall be the result? \n",
    "\n",
    "$z \\sim N(0,1) \\overbrace{\\longrightarrow}^{g(z) = a\\cdot z + b} x \\sim N(5,0.2)$. \n",
    "\n",
    "Hence, $b = 5$ and $a = 0.2$"
   ]
  },
  {
   "cell_type": "code",
   "execution_count": 113,
   "id": "freelance-lawsuit",
   "metadata": {},
   "outputs": [],
   "source": [
    "# Making a distribution using the flow and a N(0,1)\n",
    "b = tf.Variable(0.0)\n",
    "a = tf.Variable(1.0)"
   ]
  },
  {
   "cell_type": "markdown",
   "id": "satisfactory-strap",
   "metadata": {},
   "source": [
    "Be aware that chain is different from sequential use of bijector"
   ]
  },
  {
   "cell_type": "code",
   "execution_count": 114,
   "id": "metallic-malawi",
   "metadata": {},
   "outputs": [
    {
     "data": {
      "text/plain": [
       "<tf.Tensor: shape=(), dtype=float32, numpy=2.0>"
      ]
     },
     "execution_count": 114,
     "metadata": {},
     "output_type": "execute_result"
    }
   ],
   "source": [
    "chain = tfb.Chain([tfb.Shift(b), tfb.Scale(a)])\n",
    "chain.forward(2.0)"
   ]
  },
  {
   "cell_type": "code",
   "execution_count": 115,
   "id": "bigger-carroll",
   "metadata": {
    "scrolled": true
   },
   "outputs": [
    {
     "data": {
      "text/plain": [
       "(<tf.Variable 'Variable:0' shape=() dtype=float32, numpy=0.0>,\n",
       " <tf.Variable 'Variable:0' shape=() dtype=float32, numpy=1.0>)"
      ]
     },
     "execution_count": 115,
     "metadata": {},
     "output_type": "execute_result"
    }
   ],
   "source": [
    "dist = tfd.TransformedDistribution(distribution=tfd.Normal(loc=0,scale=1), bijector=chain)\n",
    "dist.trainable_variables"
   ]
  },
  {
   "cell_type": "code",
   "execution_count": 116,
   "id": "objective-identity",
   "metadata": {},
   "outputs": [
    {
     "data": {
      "text/plain": [
       "<tf.Tensor: shape=(), dtype=float32, numpy=13.473721>"
      ]
     },
     "execution_count": 116,
     "metadata": {},
     "output_type": "execute_result"
    }
   ],
   "source": [
    "-tf.reduce_mean(dist.log_prob(X)) #The NLL of the whole training set"
   ]
  },
  {
   "cell_type": "code",
   "execution_count": 117,
   "id": "strong-mailing",
   "metadata": {},
   "outputs": [],
   "source": [
    "optimizer = tf.keras.optimizers.Adam(learning_rate=1e-1) #quite high lr for normalizing flows."
   ]
  },
  {
   "cell_type": "code",
   "execution_count": 118,
   "id": "fifteen-columbus",
   "metadata": {},
   "outputs": [
    {
     "name": "stdout",
     "output_type": "stream",
     "text": [
      "0 NLL  13.473721  Scale (a)  1.1  Shift (b)  0.099999934\n",
      "100 NLL  1.9138358  Scale (a)  2.4554722  Shift (b)  3.981906\n",
      "200 NLL  0.28962526  Scale (a)  0.4429593  Shift (b)  5.009359\n",
      "300 NLL  -0.21576  Scale (a)  0.19421986  Shift (b)  5.0071745\n",
      "400 NLL  -0.21576849  Scale (a)  0.19501051  Shift (b)  5.0071483\n",
      "500 NLL  -0.21576858  Scale (a)  0.19500959  Shift (b)  5.0071483\n",
      "600 NLL  -0.21576853  Scale (a)  0.19500957  Shift (b)  5.0071483\n",
      "700 NLL  -0.21576846  Scale (a)  0.19500959  Shift (b)  5.0071483\n",
      "800 NLL  -0.21576852  Scale (a)  0.19500957  Shift (b)  5.0071487\n",
      "900 NLL  -0.21576847  Scale (a)  0.1950096  Shift (b)  5.007148\n"
     ]
    }
   ],
   "source": [
    "for i in range(1000):\n",
    "    with tf.GradientTape() as tape:\n",
    "        loss = -tf.reduce_mean(dist.log_prob(X)) #<-- The negative log-likelihood we want to minize \n",
    "        gradients = tape.gradient(loss,          #D \n",
    "                    dist.trainable_variables)     \n",
    "    optimizer.apply_gradients(\n",
    "        zip(gradients, dist.trainable_variables)) #E     \n",
    "    \n",
    "    if (i % 100 == 0):\n",
    "        print(i, \"NLL \",loss.numpy(), \" Scale (a) \", a.numpy(), \" Shift (b) \", b.numpy())"
   ]
  },
  {
   "cell_type": "code",
   "execution_count": 119,
   "id": "defined-tonight",
   "metadata": {},
   "outputs": [
    {
     "data": {
      "text/plain": [
       "Text(0.5, 0, 'x')"
      ]
     },
     "execution_count": 119,
     "metadata": {},
     "output_type": "execute_result"
    },
    {
     "data": {
      "image/png": "[encoded data removed]",
      "text/plain": [
       "<Figure size 432x288 with 1 Axes>"
      ]
     },
     "metadata": {
      "needs_background": "light"
     },
     "output_type": "display_data"
    }
   ],
   "source": [
    "xx = np.linspace(4,6,100)\n",
    "plt.hist(X, bins=50,density=True)\n",
    "plt.plot(xx, dist.prob(xx) )\n",
    "plt.xlabel('x')"
   ]
  },
  {
   "cell_type": "code",
   "execution_count": 120,
   "id": "constant-opposition",
   "metadata": {},
   "outputs": [
    {
     "data": {
      "text/plain": [
       "<tf.Tensor: shape=(), dtype=float32, numpy=5.0071487>"
      ]
     },
     "execution_count": 120,
     "metadata": {},
     "output_type": "execute_result"
    }
   ],
   "source": [
    "dist.mean()"
   ]
  },
  {
   "cell_type": "code",
   "execution_count": 121,
   "id": "premier-carol",
   "metadata": {},
   "outputs": [
    {
     "data": {
      "text/plain": [
       "<tf.Tensor: shape=(), dtype=float32, numpy=0.19500971>"
      ]
     },
     "execution_count": 121,
     "metadata": {},
     "output_type": "execute_result"
    }
   ],
   "source": [
    "dist.stddev()"
   ]
  },
  {
   "cell_type": "code",
   "execution_count": 122,
   "id": "south-deficit",
   "metadata": {},
   "outputs": [
    {
     "data": {
      "text/plain": [
       "<tf.Tensor: shape=(), dtype=float32, numpy=2.0443833>"
      ]
     },
     "execution_count": 122,
     "metadata": {},
     "output_type": "execute_result"
    }
   ],
   "source": [
    "dist.prob(5.0)"
   ]
  },
  {
   "cell_type": "code",
   "execution_count": 123,
   "id": "municipal-trinidad",
   "metadata": {},
   "outputs": [
    {
     "data": {
      "text/plain": [
       "<tf.Tensor: shape=(), dtype=float32, numpy=5.0071487>"
      ]
     },
     "execution_count": 123,
     "metadata": {},
     "output_type": "execute_result"
    }
   ],
   "source": [
    "dist.quantile(0.5)"
   ]
  }
 ],
 "metadata": {
  "kernelspec": {
   "display_name": "Python 3",
   "language": "python",
   "name": "python3"
  },
  "language_info": {
   "codemirror_mode": {
    "name": "ipython",
    "version": 3
   },
   "file_extension": ".py",
   "mimetype": "text/x-python",
   "name": "python",
   "nbconvert_exporter": "python",
   "pygments_lexer": "ipython3",
   "version": "3.8.7"
  }
 },
 "nbformat": 4,
 "nbformat_minor": 5
}
